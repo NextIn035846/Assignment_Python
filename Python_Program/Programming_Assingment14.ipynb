{
 "cells": [
  {
   "cell_type": "markdown",
   "metadata": {},
   "source": [
    "# Programming_Assignement14"
   ]
  },
  {
   "cell_type": "markdown",
   "metadata": {},
   "source": [
    "__Question 1:__\n",
    "\n",
    "Define a class with a generator which can iterate the numbers, which are divisible by 7, between a given range 0 and n."
   ]
  },
  {
   "cell_type": "code",
   "execution_count": 1,
   "metadata": {},
   "outputs": [
    {
     "name": "stdout",
     "output_type": "stream",
     "text": [
      "Enter the Number70\n",
      "Output:\n",
      "0\n",
      "7\n",
      "14\n",
      "21\n",
      "28\n",
      "35\n",
      "42\n",
      "49\n",
      "56\n",
      "63\n",
      "70\n"
     ]
    }
   ],
   "source": [
    "class Divisible:\n",
    "  def __init__(self,number):\n",
    "    self.number = number\n",
    "  def myFuc(self):\n",
    "    print(\"Output:\")\n",
    "    for i in range(self.number):\n",
    "      if i %7 == 0:\n",
    "        print(i)\n",
    "\n",
    "number = int(input(\"Enter the Number\"))\n",
    "Div = Divisible(number+1)\n",
    "Div.myFuc()\n"
   ]
  },
  {
   "cell_type": "markdown",
   "metadata": {},
   "source": [
    "__Question 2:__\n",
    "\n",
    "Write a program to compute the frequency of the words from the input. The output should output after sorting the key alphanumerically.\n",
    "\n",
    "Suppose the following input is supplied to the program:\n",
    "\n",
    "New to Python or choosing between Python 2 and Python 3? Read Python 2 or Python 3.\n",
    "\n",
    "Then, the output should be:\n",
    "\n",
    "2:2\n",
    "\n",
    "3.:1\n",
    "\n",
    "3?:1\n",
    "\n",
    "New:1\n",
    "\n",
    "Python:5\n",
    "\n",
    "Read:1\n",
    "\n",
    "and:1\n",
    "\n",
    "between:1\n",
    "\n",
    "choosing:1\n",
    "\n",
    "or:2\n",
    "\n",
    "to:1"
   ]
  },
  {
   "cell_type": "code",
   "execution_count": 3,
   "metadata": {},
   "outputs": [
    {
     "name": "stdout",
     "output_type": "stream",
     "text": [
      "Enter the String New to Python or choosing between Python 2 and Python 3? Read Python 2 or Python 3.\n",
      "\n",
      "Output:\n",
      "2  : 2\n",
      "3.  : 1\n",
      "3?  : 1\n",
      "New  : 1\n",
      "Python  : 5\n",
      "Read  : 1\n",
      "and  : 1\n",
      "between  : 1\n",
      "choosing  : 1\n",
      "or  : 2\n",
      "to  : 1\n"
     ]
    }
   ],
   "source": [
    "in_input = input(\"Enter the String \").split(\" \")\n",
    "\n",
    "print(\"\\nOutput:\")\n",
    "for i in sorted(list(set(in_input))):\n",
    "  print(i,\" :\", in_input.count(i))\n"
   ]
  },
  {
   "cell_type": "markdown",
   "metadata": {},
   "source": [
    "__Question 3:__\n",
    "\n",
    "Define a class Person and its two child classes: Male and Female. All classes have a\n",
    "method &quot;getGender&quot; which can print &quot;Male&quot; for Male class and &quot;Female&quot; for Female\n",
    "class."
   ]
  },
  {
   "cell_type": "code",
   "execution_count": 6,
   "metadata": {},
   "outputs": [
    {
     "name": "stdout",
     "output_type": "stream",
     "text": [
      "Female\n",
      "Male\n"
     ]
    }
   ],
   "source": [
    "class Person(object):\n",
    "  def getGender(self):\n",
    "    return \"Unknown\"\n",
    "class Male(Person):\n",
    "  def getGender(self):\n",
    "    return \"Male\"\n",
    "class Female(Person):\n",
    "  def getGender(self):\n",
    "    return \"Female\"\n",
    "\n",
    "sharon = Female()\n",
    "doug = Male()\n",
    "print(sharon.getGender())\n",
    "print(doug.getGender())"
   ]
  },
  {
   "cell_type": "markdown",
   "metadata": {},
   "source": [
    "__Question 4:__\n",
    "\n",
    "Please write a program to generate all sentences where subject is in [&quot;I&quot;, &quot;You&quot;] and\n",
    "verb is in [&quot;Play&quot;, &quot;Love&quot;] and the object is in [&quot;Hockey&quot;,&quot;Football&quot;]."
   ]
  },
  {
   "cell_type": "code",
   "execution_count": 10,
   "metadata": {},
   "outputs": [
    {
     "name": "stdout",
     "output_type": "stream",
     "text": [
      "I Play Hockey.\n",
      "I Play Football.\n",
      "I Love Hockey.\n",
      "I Love Football.\n",
      "You Play Hockey.\n",
      "You Play Football.\n",
      "You Love Hockey.\n",
      "You Love Football.\n"
     ]
    }
   ],
   "source": [
    "subjects=[\"I\", \"You\"]\n",
    "verbs=[\"Play\", \"Love\"]\n",
    "objects=[\"Hockey\",\"Football\"]\n",
    "for i in range(len(subjects)):\n",
    "    for j in range(len(verbs)):\n",
    "        for k in range(len(objects)):\n",
    "            sentence = \"%s %s %s.\" % (subjects[i], verbs[j], objects[k])\n",
    "            print(sentence)"
   ]
  },
  {
   "cell_type": "markdown",
   "metadata": {},
   "source": [
    "__Question 5:__\n",
    "\n",
    "Please write a program to compress and decompress the string &quot;hello world!hello\n",
    "world!hello world!hello world!&quot;."
   ]
  },
  {
   "cell_type": "code",
   "execution_count": 14,
   "metadata": {},
   "outputs": [
    {
     "name": "stdout",
     "output_type": "stream",
     "text": [
      "\n",
      " Compresss of strinf is : \n",
      "b'\\x1f\\x8b\\x08\\x00\\xe68\\xa8c\\x02\\xff\\xcbH\\xcd\\xc9\\xc9W(\\xcf/\\xcaIQ\\xcc \\x82\\r\\x00\\xd3\\xe6\\xcf\\xae0\\x00\\x00\\x00'\n",
      "\n",
      "Decompress of String is:\n",
      "b'hello world!hello world!hello world!hello world!'\n"
     ]
    }
   ],
   "source": [
    "import gzip\n",
    "s = b\"hello world!hello world!hello world!hello world!\"\n",
    "compress = gzip.compress(s)\n",
    "print(f\"\\n Compresss of strinf is : \\n{compress}\")\n",
    "Decompress = gzip.decompress(compress)\n",
    "print(f\"\\nDecompress of String is:\\n{Decompress}\")"
   ]
  },
  {
   "cell_type": "markdown",
   "metadata": {},
   "source": [
    "__Question 6:__\n",
    "\n",
    "Please write a binary search function which searches an item in a sorted list. The\n",
    "function should return the index of element to be searched in the list."
   ]
  },
  {
   "cell_type": "code",
   "execution_count": 16,
   "metadata": {},
   "outputs": [
    {
     "name": "stdout",
     "output_type": "stream",
     "text": [
      "enter the serching Number  98\n",
      "10\n"
     ]
    }
   ],
   "source": [
    "List1 = [12,13,34,35,45,56,67,87,88,98]\n",
    "value = int(input(\"enter the serching Number  \"))\n",
    "\n",
    "def BinarySerch(Mins, Maxs):\n",
    "  \n",
    "  if Mins> Maxs:\n",
    "    return False\n",
    "  else:\n",
    "    mid = (Mins+ Maxs)//2\n",
    "    if value == List1[mid]:\n",
    "      return mid+1\n",
    "    elif value> List1[mid]:\n",
    "      return(BinarySerch(mid+1,Maxs))\n",
    "    else:\n",
    "      return(BinarySerch(Mins,mid-1))\n",
    "\n",
    "    \n",
    "index1 = BinarySerch(0,len(List1)-1)\n",
    "print(index1)"
   ]
  },
  {
   "cell_type": "code",
   "execution_count": null,
   "metadata": {},
   "outputs": [],
   "source": []
  }
 ],
 "metadata": {
  "kernelspec": {
   "display_name": "Python 3",
   "language": "python",
   "name": "python3"
  },
  "language_info": {
   "codemirror_mode": {
    "name": "ipython",
    "version": 3
   },
   "file_extension": ".py",
   "mimetype": "text/x-python",
   "name": "python",
   "nbconvert_exporter": "python",
   "pygments_lexer": "ipython3",
   "version": "3.8.2"
  }
 },
 "nbformat": 4,
 "nbformat_minor": 4
}
