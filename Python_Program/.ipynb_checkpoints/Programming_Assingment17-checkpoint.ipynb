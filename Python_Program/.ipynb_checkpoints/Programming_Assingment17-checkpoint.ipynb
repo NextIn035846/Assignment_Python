{
 "cells": [
  {
   "cell_type": "markdown",
   "metadata": {},
   "source": [
    "__Question1.__\n",
    "\n",
    "Create a function that takes three arguments a, b, c and returns the sum of the numbers that are evenly divided by c from the range a, b inclusive.\n"
   ]
  },
  {
   "cell_type": "code",
   "execution_count": 3,
   "metadata": {},
   "outputs": [
    {
     "data": {
      "text/plain": [
       "30"
      ]
     },
     "execution_count": 3,
     "metadata": {},
     "output_type": "execute_result"
    }
   ],
   "source": [
    "def evenly_divisible(a,b,c):\n",
    "  sum_div = 0\n",
    "  for i in range(a,b+1):\n",
    "    if i% c==0:\n",
    "      sum_div = sum_div+ i\n",
    "  return(sum_div)\n",
    "evenly_divisible(1,10,2)   "
   ]
  },
  {
   "cell_type": "markdown",
   "metadata": {},
   "source": [
    "__Question2.__\n",
    "\n",
    "Create a function that returns True if a given inequality expression is correct and\n",
    "False otherwise."
   ]
  },
  {
   "cell_type": "code",
   "execution_count": 4,
   "metadata": {},
   "outputs": [
    {
     "name": "stdout",
     "output_type": "stream",
     "text": [
      "Enter the Expression1>2<34>45\n"
     ]
    },
    {
     "data": {
      "text/plain": [
       "False"
      ]
     },
     "execution_count": 4,
     "metadata": {},
     "output_type": "execute_result"
    }
   ],
   "source": [
    "def Correct_sign(expression):\n",
    "  return(eval(expression))\n",
    "\n",
    "Express = input(\"Enter the Expression\")\n",
    "Correct_sign(Express)"
   ]
  },
  {
   "cell_type": "markdown",
   "metadata": {},
   "source": [
    "__Question3.__\n",
    "\n",
    "Create a function that replaces all the vowels in a string with a specified character."
   ]
  },
  {
   "cell_type": "code",
   "execution_count": 6,
   "metadata": {},
   "outputs": [
    {
     "name": "stdout",
     "output_type": "stream",
     "text": [
      "Enter the String the aardvark\n",
      "Enter the Which Character you want to replace woth Vowel#\n"
     ]
    },
    {
     "data": {
      "text/plain": [
       "'th# ##rdv#rk'"
      ]
     },
     "execution_count": 6,
     "metadata": {},
     "output_type": "execute_result"
    }
   ],
   "source": [
    "def replace_vowel(Values,Chracter):\n",
    "  Vowel = 'aeiouAEIOU'\n",
    "\n",
    "  for i in Vowel:\n",
    "    Values = Values.replace(i,Chracter)\n",
    "  return Values\n",
    "\n",
    "Values = input(\"Enter the String \")\n",
    "Character  = input(\"Enter the Which Character you want to replace woth Vowel\")\n",
    "replace_vowel(Values,Character)"
   ]
  },
  {
   "cell_type": "markdown",
   "metadata": {},
   "source": [
    "__Question4.__\n",
    "\n",
    "Write a function that calculates the factorial of a number recursively."
   ]
  },
  {
   "cell_type": "code",
   "execution_count": 7,
   "metadata": {},
   "outputs": [
    {
     "data": {
      "text/plain": [
       "6"
      ]
     },
     "execution_count": 7,
     "metadata": {},
     "output_type": "execute_result"
    }
   ],
   "source": [
    "def Fact(Num):\n",
    "  if Num <1:\n",
    "    return(1)\n",
    "  else:\n",
    "    return(Num*Fact(Num-1))\n",
    "Fact(3)"
   ]
  },
  {
   "cell_type": "markdown",
   "metadata": {},
   "source": [
    "__Question 5__\n",
    "\n",
    "Hamming distance is the number of characters that differ between two strings."
   ]
  },
  {
   "cell_type": "code",
   "execution_count": 8,
   "metadata": {},
   "outputs": [
    {
     "data": {
      "text/plain": [
       "5"
      ]
     },
     "execution_count": 8,
     "metadata": {},
     "output_type": "execute_result"
    }
   ],
   "source": [
    "def Hamming_Distance(String_1,String_2):\n",
    "  Counts = 0\n",
    "  for i in range(len(String_1)):\n",
    "    if String_1 != String_2:\n",
    "      Counts = Counts+1\n",
    "  return Counts\n",
    "\n",
    "Hamming_Distance('abcde','bcdef')"
   ]
  },
  {
   "cell_type": "code",
   "execution_count": null,
   "metadata": {},
   "outputs": [],
   "source": []
  }
 ],
 "metadata": {
  "kernelspec": {
   "display_name": "Python 3",
   "language": "python",
   "name": "python3"
  },
  "language_info": {
   "codemirror_mode": {
    "name": "ipython",
    "version": 3
   },
   "file_extension": ".py",
   "mimetype": "text/x-python",
   "name": "python",
   "nbconvert_exporter": "python",
   "pygments_lexer": "ipython3",
   "version": "3.8.2"
  }
 },
 "nbformat": 4,
 "nbformat_minor": 4
}
