{
 "cells": [
  {
   "cell_type": "markdown",
   "metadata": {},
   "source": [
    "## Python Programming No 10\n"
   ]
  },
  {
   "cell_type": "markdown",
   "metadata": {},
   "source": [
    "1. Write a Python program to find sum of elements in list?"
   ]
  },
  {
   "cell_type": "code",
   "execution_count": 1,
   "metadata": {},
   "outputs": [
    {
     "name": "stdout",
     "output_type": "stream",
     "text": [
      "The Orignal list is  [1, 5, 78, 6, 5, 74, 22, 35, 25]\n",
      "Sum of the Element in the list 251\n"
     ]
    }
   ],
   "source": [
    "MY_List1 = [1,5,78,6,5,74,22,35,25]\n",
    "print(\"The Orignal list is \",MY_List1)\n",
    "print(f\"Sum of the Element in the list {sum(MY_List1)}\")"
   ]
  },
  {
   "cell_type": "markdown",
   "metadata": {},
   "source": [
    "2. Write a Python program to Multiply all numbers in the list?"
   ]
  },
  {
   "cell_type": "code",
   "execution_count": 3,
   "metadata": {},
   "outputs": [
    {
     "name": "stdout",
     "output_type": "stream",
     "text": [
      "The Origanla list is [1, 3, 4, 6, 7, 9, 8]\n",
      "Multiplcation of the List is 36288\n"
     ]
    }
   ],
   "source": [
    "import numpy\n",
    "MY_List2 = [1,3,4,6,7,9,8]\n",
    "print(f\"The Origanla list is {MY_List2}\")\n",
    "print(f\"Multiplcation of the List is {numpy.prod(MY_List2)}\")\n"
   ]
  },
  {
   "cell_type": "markdown",
   "metadata": {},
   "source": [
    "3. Write a Python program to find smallest number in a list?"
   ]
  },
  {
   "cell_type": "code",
   "execution_count": 4,
   "metadata": {},
   "outputs": [
    {
     "name": "stdout",
     "output_type": "stream",
     "text": [
      "The Smallest number in the list is 5\n"
     ]
    }
   ],
   "source": [
    "MY_List3 = [11,5,78,65,48,93,46,13]\n",
    "print(f\"The Smallest number in the list is {min(MY_List3)}\")"
   ]
  },
  {
   "cell_type": "markdown",
   "metadata": {},
   "source": [
    "4. Write a Python program to find largest number in a list?"
   ]
  },
  {
   "cell_type": "code",
   "execution_count": 9,
   "metadata": {},
   "outputs": [
    {
     "name": "stdout",
     "output_type": "stream",
     "text": [
      "The largest Number in the list is 100\n"
     ]
    }
   ],
   "source": [
    "MY_List4 = [4,6,85,45,63,15,100,46]\n",
    "print(f\"The largest Number in the list is {max(MY_List4)}\")"
   ]
  },
  {
   "cell_type": "markdown",
   "metadata": {},
   "source": [
    "5. Write a Python program to find second largest number in a list?"
   ]
  },
  {
   "cell_type": "code",
   "execution_count": 15,
   "metadata": {},
   "outputs": [
    {
     "name": "stdout",
     "output_type": "stream",
     "text": [
      "The second Largest Nummber in the List is 79\n"
     ]
    }
   ],
   "source": [
    "MY_List5 = [1,4,85,36,46,79,34,16]\n",
    "\n",
    "print(f\"The second Largest Nummber in the List is {sorted(MY_List5)[-2]}\")"
   ]
  },
  {
   "cell_type": "markdown",
   "metadata": {},
   "source": [
    "6. Write a Python program to find N largest elements from a list?"
   ]
  },
  {
   "cell_type": "code",
   "execution_count": 17,
   "metadata": {},
   "outputs": [
    {
     "name": "stdout",
     "output_type": "stream",
     "text": [
      "How Many Number You Want to insert in the List 6\n",
      "Enter the Number 43\n",
      "Enter the Number 49\n",
      "Enter the Number 12\n",
      "Enter the Number 35\n",
      "Enter the Number 25\n",
      "Enter the Number 65\n",
      "Enter the Largest Number in the list 4\n",
      "The 4 largest Element in the list is 35 \n"
     ]
    }
   ],
   "source": [
    "Size =int(input(\"How Many Number You Want to insert in the List \"))\n",
    "MY_List6 = []\n",
    "for _ in range(Size):\n",
    "    Value = int(input(\"Enter the Number \"))\n",
    "    MY_List6.append(Value)\n",
    "Check = int(input(\"Enter the Largest Number in the list \"))\n",
    "if Check> Size:\n",
    "    print(f\"You Enter the {Check} Number But Size of list is {Size}\")\n",
    "    print(\"Plase Enter the Minmum Value\")\n",
    "else:\n",
    "    print(f\"The {Check} largest Element in the list is {sorted(MY_List6)[-Check]} \")"
   ]
  },
  {
   "cell_type": "markdown",
   "metadata": {},
   "source": [
    "7. Write a Python program to print even numbers in a list?"
   ]
  },
  {
   "cell_type": "code",
   "execution_count": 20,
   "metadata": {},
   "outputs": [
    {
     "name": "stdout",
     "output_type": "stream",
     "text": [
      "12\n",
      "76\n",
      "4\n"
     ]
    }
   ],
   "source": [
    "def Even(MY_List):\n",
    "    for i in MY_List:\n",
    "        if i%2 == 0:\n",
    "            print(i)\n",
    "MY_List7 = [12,63,76,23,4,95,43,19,37]\n",
    "Even(MY_List7)"
   ]
  },
  {
   "cell_type": "markdown",
   "metadata": {},
   "source": [
    "8. Write a Python program to print odd numbers in a List?"
   ]
  },
  {
   "cell_type": "code",
   "execution_count": 24,
   "metadata": {},
   "outputs": [
    {
     "name": "stdout",
     "output_type": "stream",
     "text": [
      "63\n",
      "23\n",
      "95\n",
      "43\n",
      "19\n",
      "37\n"
     ]
    }
   ],
   "source": [
    "def Odd(My_List):\n",
    "    for i in My_List:\n",
    "        if i%2 != 0:\n",
    "            print(i)\n",
    "MY_List7 = [12,63,76,23,4,95,43,19,37]\n",
    "Odd(MY_List7)\n",
    "    "
   ]
  },
  {
   "cell_type": "markdown",
   "metadata": {},
   "source": [
    "9. Write a Python program to Remove empty List from List?"
   ]
  },
  {
   "cell_type": "code",
   "execution_count": 3,
   "metadata": {},
   "outputs": [
    {
     "name": "stdout",
     "output_type": "stream",
     "text": [
      "The Original List is [5, 6, [], 3, [], [], 9]\n",
      "List after Empty list removal [5, 6, 3, 9]\n"
     ]
    }
   ],
   "source": [
    "MY_List_9 = [5, 6, [], 3, [], [], 9]\n",
    "print(f\"The Original List is {MY_List_9}\")\n",
    "\n",
    "print(f\"List after Empty list removal {list(filter(None,MY_List_9))}\")"
   ]
  },
  {
   "cell_type": "markdown",
   "metadata": {},
   "source": [
    "10. Write a Python program to Cloning or Copying a list?"
   ]
  },
  {
   "cell_type": "code",
   "execution_count": 13,
   "metadata": {},
   "outputs": [
    {
     "name": "stdout",
     "output_type": "stream",
     "text": [
      "My Original List [11, 23, 54, 6] \n",
      "\n",
      "copy of the Origanla List is [11, 23, 54, 6]\n",
      "\n",
      "Clone of the Origanl List is [11, 23, 54, 6]\n",
      "\n"
     ]
    }
   ],
   "source": [
    "My_list = [11,23,54,6]\n",
    "print(f\"My Original List {My_list} \\n\")\n",
    "my_list_copy = My_list.copy()\n",
    "my_list_clone = My_list\n",
    "print(f\"copy of the Origanla List is {my_list_copy}\\n\")\n",
    "print(f\"Clone of the Origanl List is {my_list_clone}\\n\")\n",
    "\n"
   ]
  },
  {
   "cell_type": "markdown",
   "metadata": {},
   "source": [
    "11. Write a Python program to Count occurrences of an element in a list?"
   ]
  },
  {
   "cell_type": "code",
   "execution_count": 23,
   "metadata": {},
   "outputs": [
    {
     "name": "stdout",
     "output_type": "stream",
     "text": [
      "{12: 2, 36: 1, 46: 1, 76: 1, 15: 1, 26: 1, 4: 1}\n"
     ]
    }
   ],
   "source": [
    "MY_list =[12,12,36,46,76,15,26,4]\n",
    "Count ={item:MY_list.count(item) for item in MY_list}\n",
    "print(Count)\n",
    "    "
   ]
  },
  {
   "cell_type": "code",
   "execution_count": null,
   "metadata": {},
   "outputs": [],
   "source": []
  }
 ],
 "metadata": {
  "kernelspec": {
   "display_name": "Python 3",
   "language": "python",
   "name": "python3"
  },
  "language_info": {
   "codemirror_mode": {
    "name": "ipython",
    "version": 3
   },
   "file_extension": ".py",
   "mimetype": "text/x-python",
   "name": "python",
   "nbconvert_exporter": "python",
   "pygments_lexer": "ipython3",
   "version": "3.8.2"
  }
 },
 "nbformat": 4,
 "nbformat_minor": 4
}
