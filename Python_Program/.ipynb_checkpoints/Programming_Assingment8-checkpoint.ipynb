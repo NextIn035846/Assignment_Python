{
 "cells": [
  {
   "cell_type": "markdown",
   "metadata": {},
   "source": [
    "__1.\tWrite a Python Program to Add Two Matrices?__"
   ]
  },
  {
   "cell_type": "code",
   "execution_count": 3,
   "metadata": {},
   "outputs": [
    {
     "name": "stdout",
     "output_type": "stream",
     "text": [
      "First Array : \n",
      "  [[21 21 13]\n",
      " [25 14 10]\n",
      " [11 24 19]] \n",
      "\n",
      "\n",
      "Second Array : \n",
      "  [[22 24 18]\n",
      " [33 18 39]\n",
      " [28 15 19]]  \n",
      "\n",
      "Sum of the Two Metrix \n",
      " [[43 45 31]\n",
      " [58 32 49]\n",
      " [39 39 38]]\n"
     ]
    }
   ],
   "source": [
    "import numpy as np\n",
    "A = np.random.randint(10,30,size=(3,3))\n",
    "B = np.random.randint(15,40,size=(3,3))\n",
    "\n",
    "print(\"First Array : \\n \",A,\"\\n\")\n",
    "print()\n",
    "print(\"Second Array : \\n \",B,\" \\n\")\n",
    "print(\"Sum of the Two Metrix \\n\",A+B)"
   ]
  },
  {
   "cell_type": "markdown",
   "metadata": {},
   "source": [
    "__2.\tWrite a Python Program to Multiply Two Matrices?__"
   ]
  },
  {
   "cell_type": "code",
   "execution_count": 7,
   "metadata": {},
   "outputs": [
    {
     "name": "stdout",
     "output_type": "stream",
     "text": [
      "First Matrice \n",
      " [[ 6  2  6]\n",
      " [ 1 10 12]\n",
      " [ 9  2  3]] \n",
      "\n",
      "Second Matrice \n",
      " [[17 22 24]\n",
      " [21 21 22]\n",
      " [22 24 22]] \n",
      "\n",
      "Multiplication of two Matrice is \n",
      " [[102  44 144]\n",
      " [ 21 210 264]\n",
      " [198  48  66]]\n"
     ]
    }
   ],
   "source": [
    "import numpy as np\n",
    "Mul1 = np.random.randint(1,15,size=(3,3))\n",
    "Mult2 = np.random.randint(15,25,size=(3,3))\n",
    "print(\"First Matrice \\n\", Mul1,\"\\n\")\n",
    "print(\"Second Matrice \\n\", Mult2, \"\\n\")\n",
    "print(\"Multiplication of two Matrice is \\n\",Mul1*Mult2)"
   ]
  },
  {
   "cell_type": "markdown",
   "metadata": {},
   "source": [
    "__3.\tWrite a Python Program to Transpose a Matrix?__"
   ]
  },
  {
   "cell_type": "code",
   "execution_count": 11,
   "metadata": {},
   "outputs": [
    {
     "name": "stdout",
     "output_type": "stream",
     "text": [
      "Origanla Matrix is \n",
      "  [[5 6 2]\n",
      " [8 4 1]\n",
      " [9 1 9]]  \n",
      " \n",
      "\n",
      "Transpose Of matrix is \n",
      " [[5 8 9]\n",
      " [6 4 1]\n",
      " [2 1 9]]\n"
     ]
    }
   ],
   "source": [
    "import numpy as np\n",
    "matrix = np.random.randint(1,10,size= (3,3))\n",
    "print(\"Origanla Matrix is \\n \",matrix,\" \\n \\n\")\n",
    "\n",
    "print(\"Transpose Of matrix is \\n\",matrix.T)"
   ]
  },
  {
   "cell_type": "markdown",
   "metadata": {},
   "source": [
    "__4.\tWrite a Python Program to Sort Words in Alphabetic Order?__"
   ]
  },
  {
   "cell_type": "code",
   "execution_count": 21,
   "metadata": {},
   "outputs": [
    {
     "name": "stdout",
     "output_type": "stream",
     "text": [
      "Enter the StringThomas Markas Patole\n",
      "['markas', 'patole', 'thomas']\n"
     ]
    }
   ],
   "source": [
    "Word = input(\"Enter the String\").lower().split(\" \")\n",
    "print(sorted(Word))\n"
   ]
  },
  {
   "cell_type": "markdown",
   "metadata": {},
   "source": [
    "__5.\tWrite a Python Program to Remove Punctuation From a String?__"
   ]
  },
  {
   "cell_type": "code",
   "execution_count": 2,
   "metadata": {},
   "outputs": [
    {
     "name": "stdout",
     "output_type": "stream",
     "text": [
      "Enter the String!hi. wh?at is the weat[h]er lik?e.\n",
      " hi  wh at is the weat h er lik e \n"
     ]
    }
   ],
   "source": [
    "import string\n",
    "Value = input(\"Enter the String\")\n",
    "for i in string.punctuation:\n",
    "    Value = Value.replace(i,\" \")\n",
    "\n",
    "print(Value)"
   ]
  },
  {
   "cell_type": "code",
   "execution_count": null,
   "metadata": {},
   "outputs": [],
   "source": []
  }
 ],
 "metadata": {
  "kernelspec": {
   "display_name": "Python 3",
   "language": "python",
   "name": "python3"
  },
  "language_info": {
   "codemirror_mode": {
    "name": "ipython",
    "version": 3
   },
   "file_extension": ".py",
   "mimetype": "text/x-python",
   "name": "python",
   "nbconvert_exporter": "python",
   "pygments_lexer": "ipython3",
   "version": "3.8.2"
  }
 },
 "nbformat": 4,
 "nbformat_minor": 4
}
