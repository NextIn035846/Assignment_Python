{
 "cells": [
  {
   "cell_type": "markdown",
   "metadata": {},
   "source": [
    "## Python_Prgramming_7"
   ]
  },
  {
   "cell_type": "markdown",
   "metadata": {},
   "source": [
    "__1. Write a Python Program to find sum of array?__"
   ]
  },
  {
   "cell_type": "code",
   "execution_count": 1,
   "metadata": {},
   "outputs": [
    {
     "name": "stdout",
     "output_type": "stream",
     "text": [
      "Sum of array is  135\n"
     ]
    }
   ],
   "source": [
    "import array as arr\n",
    "arr1 = arr.array('i',[21,23,32,25,34])\n",
    "print(\"Sum of array is \",sum(arr1))"
   ]
  },
  {
   "cell_type": "markdown",
   "metadata": {},
   "source": [
    "__2. Write a Python Program to find largest element in an array?__"
   ]
  },
  {
   "cell_type": "code",
   "execution_count": 2,
   "metadata": {},
   "outputs": [
    {
     "name": "stdout",
     "output_type": "stream",
     "text": [
      "Max Value of array is  24\n"
     ]
    }
   ],
   "source": [
    "import array as arr\n",
    "arr2 = arr.array('i',[23,24,12,15,1,3])\n",
    "print(\"Max Value of array is \",max(arr2))"
   ]
  },
  {
   "cell_type": "markdown",
   "metadata": {},
   "source": [
    "__3. Write a Python Program for array rotation?__"
   ]
  },
  {
   "cell_type": "code",
   "execution_count": 4,
   "metadata": {},
   "outputs": [
    {
     "name": "stdout",
     "output_type": "stream",
     "text": [
      "Enter the How much rotat number 3\n",
      "Original Array  array('i', [12, 23, 4, 45, 34, 45, 45, 67])\n",
      "Rotation of Array  array('i', [45, 34, 45, 45, 67, 12, 23, 4])\n"
     ]
    }
   ],
   "source": [
    "import array as arr\n",
    "def Rotation(arrs, legth,rotat):\n",
    "    arrs = arrs[rotat:legth] + arrs[:rotat]\n",
    "    return arrs\n",
    "\n",
    "arr3 = arr.array('i',[12,23,4,45,34,45,45,67])\n",
    "rotate = int(input('Enter the How much rotat number '))\n",
    "print(\"Original Array \" , arr3)\n",
    "print(\"Rotation of Array \",Rotation(arr3,len(arr3),rotate))"
   ]
  },
  {
   "cell_type": "markdown",
   "metadata": {},
   "source": [
    "__4. Write a Python Program to Split the array and add the first part to the end?__"
   ]
  },
  {
   "cell_type": "code",
   "execution_count": 5,
   "metadata": {},
   "outputs": [
    {
     "name": "stdout",
     "output_type": "stream",
     "text": [
      "Enter the How much rotat number4\n",
      "Original Array  array('i', [12, 23, 4, 45, 34, 77, 27, 67])\n",
      "Rotation of Array  array('i', [34, 77, 27, 67, 12, 23, 4, 45])\n"
     ]
    }
   ],
   "source": [
    "import array as arr\n",
    "def Rotation(arrs, legth,rotat):\n",
    "    arrs = arrs[rotat:legth] + arrs[:rotat]\n",
    "    return arrs\n",
    "\n",
    "arr4 = arr.array('i',[12,23,4,45,34,77,27,67])\n",
    "rotate = int(input('Enter the How much rotat number'))\n",
    "print(\"Original Array \" , arr4)\n",
    "print(\"Rotation of Array \",Rotation(arr4,len(arr4),rotate))"
   ]
  },
  {
   "cell_type": "markdown",
   "metadata": {},
   "source": [
    "__5. Write a Python Program to check if given array is Monotonic?__"
   ]
  },
  {
   "cell_type": "code",
   "execution_count": 6,
   "metadata": {},
   "outputs": [
    {
     "name": "stdout",
     "output_type": "stream",
     "text": [
      "How Many number you want to insert into list 6\n",
      "Enter the Values 12\n",
      "Enter the Values 36\n",
      "Enter the Values 44\n",
      "Enter the Values 56\n",
      "Enter the Values 57\n",
      "Enter the Values 58\n",
      "Enter array is Monotonic\n"
     ]
    }
   ],
   "source": [
    "def Monotonic(my_list):\n",
    "    return(all(my_list[i]<= my_list[i+1] for i in range(len(my_list)-1))) or (all(my_list[i]>= my_list[i+1] for i in range(len(my_list)-1)))\n",
    "my_list = []\n",
    "Value = int(input(\"How Many number you want to insert into list \"))\n",
    "for i in range(Value):\n",
    "    liValue = int(input(\"Enter the Values \"))\n",
    "    my_list.append(liValue)\n",
    "\n",
    "check = Monotonic(my_list)\n",
    "\n",
    "if check:\n",
    "    print(\"Enter array is Monotonic\")\n",
    "else:\n",
    "    print(\"Enter array is  not Monotonic\")"
   ]
  },
  {
   "cell_type": "code",
   "execution_count": null,
   "metadata": {},
   "outputs": [],
   "source": []
  }
 ],
 "metadata": {
  "kernelspec": {
   "display_name": "Python 3",
   "language": "python",
   "name": "python3"
  },
  "language_info": {
   "codemirror_mode": {
    "name": "ipython",
    "version": 3
   },
   "file_extension": ".py",
   "mimetype": "text/x-python",
   "name": "python",
   "nbconvert_exporter": "python",
   "pygments_lexer": "ipython3",
   "version": "3.8.2"
  }
 },
 "nbformat": 4,
 "nbformat_minor": 4
}
