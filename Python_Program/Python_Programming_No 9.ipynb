{
 "cells": [
  {
   "cell_type": "markdown",
   "metadata": {},
   "source": [
    "## Python_Programming_No9"
   ]
  },
  {
   "cell_type": "markdown",
   "metadata": {},
   "source": [
    "1. Write a Python program to check if the given number is a Disarium Number?"
   ]
  },
  {
   "cell_type": "code",
   "execution_count": 6,
   "metadata": {},
   "outputs": [
    {
     "name": "stdout",
     "output_type": "stream",
     "text": [
      "Enter the Number 80\n",
      "The 80 is Not a Disarium Number\n"
     ]
    }
   ],
   "source": [
    "\n",
    "def Check_Disarium(num1):\n",
    "    value = num1\n",
    "    leght_num = len(str(num1))\n",
    "    NumSum = 0\n",
    "    while(num1!=0):\n",
    "        div = num1%10\n",
    "        NumSum = NumSum +(div**leght_num)\n",
    "        leght_num= leght_num-1\n",
    "        num1 =num1//10\n",
    "    if NumSum == value:\n",
    "        print(f\"The {value} is a Disarium Number\")\n",
    "    else:\n",
    "        print(f\"The {value} is Not a Disarium Number\")\n",
    "\n",
    "Num = int(input(\"Enter the Number \"))\n",
    "Check_Disarium(Num)\n"
   ]
  },
  {
   "cell_type": "markdown",
   "metadata": {},
   "source": [
    "2. Write a Python program to print all disarium numbers between 1 to 100?"
   ]
  },
  {
   "cell_type": "code",
   "execution_count": 7,
   "metadata": {},
   "outputs": [
    {
     "name": "stdout",
     "output_type": "stream",
     "text": [
      "1\n",
      "2\n",
      "3\n",
      "4\n",
      "5\n",
      "6\n",
      "7\n",
      "8\n",
      "9\n",
      "89\n"
     ]
    }
   ],
   "source": [
    "def Check_Disarium(num1):\n",
    "    value = num1\n",
    "    leght_num = len(str(num1))\n",
    "    NumSum = 0\n",
    "    while(num1!=0):\n",
    "        div = num1%10\n",
    "        NumSum = NumSum +(div**leght_num)\n",
    "        leght_num= leght_num-1\n",
    "        num1 =num1//10\n",
    "    if NumSum == value:\n",
    "        print(NumSum)\n",
    "\n",
    "for i in range(1,101):\n",
    "    Check_Disarium(i)"
   ]
  },
  {
   "cell_type": "markdown",
   "metadata": {},
   "source": [
    "3. Write a Python program to check if the given number is Happy Number?"
   ]
  },
  {
   "cell_type": "code",
   "execution_count": 3,
   "metadata": {},
   "outputs": [
    {
     "name": "stdout",
     "output_type": "stream",
     "text": [
      "Enter the number93\n",
      "Enter the Number is Not Happy Number\n"
     ]
    }
   ],
   "source": [
    "def SquareNumber(Num1):\n",
    "    Sum = 0\n",
    "    while(Num1!=0):\n",
    "        Sum = Sum +(Num1%10)**2\n",
    "        Num1 = Num1//10\n",
    "    return Sum\n",
    "Result = int(input(\"Enter the number \"))\n",
    "while(Result !=1 and Result!=4 and Result !=9):\n",
    "    Result = SquareNumber(Result)\n",
    "if(Result == 1):\n",
    "    print(\"The Given Number is Happy Number\")\n",
    "else:\n",
    "    print(\"Enter the Number is Not Happy Number\")\n"
   ]
  },
  {
   "cell_type": "markdown",
   "metadata": {},
   "source": [
    "4. Write a Python program to print all happy numbers between 1 and 100?"
   ]
  },
  {
   "cell_type": "code",
   "execution_count": 6,
   "metadata": {},
   "outputs": [
    {
     "name": "stdout",
     "output_type": "stream",
     "text": [
      "1\n",
      "7\n",
      "10\n",
      "13\n",
      "19\n",
      "23\n",
      "28\n",
      "31\n",
      "32\n",
      "44\n",
      "49\n",
      "68\n",
      "70\n",
      "79\n",
      "82\n",
      "86\n",
      "91\n",
      "94\n",
      "97\n",
      "100\n"
     ]
    }
   ],
   "source": [
    "def SquareNumber(Num1):\n",
    "    Sum = 0\n",
    "    while(Num1!=0):\n",
    "        Sum = Sum +(Num1%10)**2\n",
    "        Num1 = Num1//10\n",
    "    return Sum\n",
    "for Result in range(1,101):\n",
    "    Value = Result\n",
    "    while(Result !=1 and Result!=4 and Result !=9):\n",
    "        Result = SquareNumber(Result)\n",
    "    if(Result == 1):\n",
    "        print(Value)\n"
   ]
  },
  {
   "cell_type": "markdown",
   "metadata": {},
   "source": [
    "5. Write a Python program to determine whether the given number is a Harshad Number?"
   ]
  },
  {
   "cell_type": "code",
   "execution_count": 12,
   "metadata": {},
   "outputs": [
    {
     "name": "stdout",
     "output_type": "stream",
     "text": [
      "Enter The Number 18\n",
      "The given number is Harshad Number\n"
     ]
    }
   ],
   "source": [
    "def Checking(Num1):\n",
    "    Sum = 0\n",
    "    while(Num1!=0):\n",
    "        Sum = Sum + (Num1%10)\n",
    "        Num1= Num1//10\n",
    "    return Sum\n",
    "Value = int(input(\"Enter The Number \"))\n",
    "Result = Checking(Value)\n",
    "\n",
    "if((Value%Result)==0):\n",
    "    print(\"The given number is Harshad Number\")\n",
    "else:\n",
    "    print(\"The given number is not Harshad number\")"
   ]
  },
  {
   "cell_type": "code",
   "execution_count": 22,
   "metadata": {},
   "outputs": [
    {
     "name": "stdout",
     "output_type": "stream",
     "text": [
      "2\n",
      "  \n",
      "6\n",
      "  \n",
      "12\n",
      "  \n",
      "20\n",
      "  \n",
      "30\n",
      "  \n",
      "42\n",
      "  \n",
      "56\n",
      "  \n",
      "72\n",
      "  \n",
      "90\n",
      "  \n"
     ]
    }
   ],
   "source": [
    "def isPronicNumber(Num1):\n",
    "    Flag = False\n",
    "    if(Num1==2):\n",
    "        Flag = True\n",
    "    for j in range(1,Num1//2):\n",
    "        if((j*(j+1))==Num1):\n",
    "            Flag = True\n",
    "            break\n",
    "    return Flag\n",
    "for i in range(1,101):\n",
    "    if(isPronicNumber(i)):\n",
    "        print(i),print(\"  \")"
   ]
  },
  {
   "cell_type": "code",
   "execution_count": null,
   "metadata": {},
   "outputs": [],
   "source": []
  }
 ],
 "metadata": {
  "kernelspec": {
   "display_name": "Python 3",
   "language": "python",
   "name": "python3"
  },
  "language_info": {
   "codemirror_mode": {
    "name": "ipython",
    "version": 3
   },
   "file_extension": ".py",
   "mimetype": "text/x-python",
   "name": "python",
   "nbconvert_exporter": "python",
   "pygments_lexer": "ipython3",
   "version": "3.8.2"
  }
 },
 "nbformat": 4,
 "nbformat_minor": 4
}
