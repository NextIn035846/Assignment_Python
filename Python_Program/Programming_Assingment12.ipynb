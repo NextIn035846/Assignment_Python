{
 "cells": [
  {
   "cell_type": "markdown",
   "metadata": {},
   "source": [
    "# Programming_Assignment12"
   ]
  },
  {
   "cell_type": "markdown",
   "metadata": {},
   "source": [
    "1. Write a Python program to Extract Unique values dictionary values?"
   ]
  },
  {
   "cell_type": "code",
   "execution_count": 1,
   "metadata": {},
   "outputs": [
    {
     "name": "stdout",
     "output_type": "stream",
     "text": [
      "Unique Values in the dictionary:\n",
      "[1, 2, 5, 6, 7, 8, 10, 11, 12]\n"
     ]
    }
   ],
   "source": [
    "test_dict = {'gfg' : [5, 6, 7, 8],\n",
    "             'is' : [10, 11, 7, 5],\n",
    "             'best' : [6, 12, 10, 8],\n",
    "             'for' : [1, 2, 5]}\n",
    "unique_Values = sorted({inner for out in test_dict.values() for inner in out})\n",
    "print(\"Unique Values in the dictionary:\")\n",
    "print(unique_Values)"
   ]
  },
  {
   "cell_type": "markdown",
   "metadata": {},
   "source": [
    "2. Write a Python program to find the sum of all items in a dictionary?"
   ]
  },
  {
   "cell_type": "code",
   "execution_count": 2,
   "metadata": {},
   "outputs": [
    {
     "name": "stdout",
     "output_type": "stream",
     "text": [
      "Sum of all the items in dictionary \n",
      "452\n"
     ]
    }
   ],
   "source": [
    "Test_dict1 ={'a':100,'b':300,'c':23,'T':29}\n",
    "print(\"Sum of all the items in dictionary \")\n",
    "print(sum(Test_dict1.values()))"
   ]
  },
  {
   "cell_type": "markdown",
   "metadata": {},
   "source": [
    "3. Write a Python program to Merging two Dictionaries?"
   ]
  },
  {
   "cell_type": "code",
   "execution_count": 3,
   "metadata": {},
   "outputs": [
    {
     "name": "stdout",
     "output_type": "stream",
     "text": [
      "Merge the two Dictionary \n",
      "{'a': 100, 'b': 300, 'c': 23, 'T': 29, 'gfg': [5, 6, 7, 8], 'is': [10, 11, 7, 5], 'best': [6, 12, 10, 8], 'for': [1, 2, 5]}\n"
     ]
    }
   ],
   "source": [
    "mergdict ={**Test_dict1,**test_dict}\n",
    "print(\"Merge the two Dictionary \")\n",
    "print(mergdict)"
   ]
  },
  {
   "cell_type": "markdown",
   "metadata": {},
   "source": [
    "4. Write a Python program to convert key-values list to flat dictionary?"
   ]
  },
  {
   "cell_type": "code",
   "execution_count": 4,
   "metadata": {},
   "outputs": [
    {
     "name": "stdout",
     "output_type": "stream",
     "text": [
      "{'Jan': 1, 'Feb': 2, 'March': 3}\n"
     ]
    }
   ],
   "source": [
    "test_dict4 = {'month' : [1, 2, 3],\n",
    "             'name' : ['Jan', 'Feb', 'March']}\n",
    "mydict = dict(zip(test_dict4['name'],test_dict4['month']))\n",
    "print(mydict)"
   ]
  },
  {
   "cell_type": "markdown",
   "metadata": {},
   "source": [
    "5. Write a Python program to insertion at the beginning in OrderedDict?"
   ]
  },
  {
   "cell_type": "code",
   "execution_count": 6,
   "metadata": {},
   "outputs": [
    {
     "name": "stdout",
     "output_type": "stream",
     "text": [
      "OrderedDict([('A', 1), ('B', 2), ('C', 3)])\n",
      "insert in the begnning\n",
      "OrderedDict([('C', 3), ('A', 1), ('B', 2)])\n"
     ]
    }
   ],
   "source": [
    "from collections import OrderedDict\n",
    "my_dict= {'A':1,'B':2}\n",
    "my_order_dict = OrderedDict(my_dict)\n",
    "my_order_dict['C'] = 3\n",
    "print(my_order_dict)\n",
    "print(\"insert in the begnning\")\n",
    "my_order_dict.move_to_end('C',False)\n",
    "print(my_order_dict)"
   ]
  },
  {
   "cell_type": "markdown",
   "metadata": {},
   "source": [
    "6. Write a Python program to check order of character in string using OrderedDict()?"
   ]
  },
  {
   "cell_type": "code",
   "execution_count": 9,
   "metadata": {},
   "outputs": [
    {
     "name": "stdout",
     "output_type": "stream",
     "text": [
      "Enter the String  Enginnering Rock\n",
      "Eneter the Pattern  ers\n"
     ]
    },
    {
     "data": {
      "text/plain": [
       "'The order of pattern is incorrect'"
      ]
     },
     "execution_count": 9,
     "metadata": {},
     "output_type": "execute_result"
    }
   ],
   "source": [
    "from collections import OrderedDict\n",
    "def check(Strings, Pattern):\n",
    "  strings = OrderedDict.fromkeys(Strings)\n",
    "  Counter = 0\n",
    "\n",
    "  for Key,Value in strings.items():\n",
    "    if(Key == Pattern[Counter]):\n",
    "      Counter = Counter +1\n",
    "\n",
    "    if(Counter == len(Pattern)):\n",
    "      return 'The order of pattern is correct'\n",
    "  return 'The order of pattern is incorrect'\n",
    "\n",
    "Strings = input(\"Enter the String  \")\n",
    "Pattern = input(\"Eneter the Pattern  \")\n",
    "\n",
    "check(Strings,Pattern)\n"
   ]
  },
  {
   "cell_type": "markdown",
   "metadata": {},
   "source": [
    "7. Write a Python program to sort Python Dictionaries by Key or Value?"
   ]
  },
  {
   "cell_type": "code",
   "execution_count": 8,
   "metadata": {},
   "outputs": [
    {
     "name": "stdout",
     "output_type": "stream",
     "text": [
      "{0: 0, 2: 1, 1: 2, 4: 3, 3: 4}\n"
     ]
    }
   ],
   "source": [
    "x = {1: 2, 3: 4, 4: 3, 2: 1, 0: 0}\n",
    "my_sort = dict(sorted(x.items(),key=lambda x:x[1]))\n",
    "print(my_sort)"
   ]
  },
  {
   "cell_type": "code",
   "execution_count": null,
   "metadata": {},
   "outputs": [],
   "source": []
  }
 ],
 "metadata": {
  "kernelspec": {
   "display_name": "Python 3",
   "language": "python",
   "name": "python3"
  },
  "language_info": {
   "codemirror_mode": {
    "name": "ipython",
    "version": 3
   },
   "file_extension": ".py",
   "mimetype": "text/x-python",
   "name": "python",
   "nbconvert_exporter": "python",
   "pygments_lexer": "ipython3",
   "version": "3.8.2"
  }
 },
 "nbformat": 4,
 "nbformat_minor": 4
}
