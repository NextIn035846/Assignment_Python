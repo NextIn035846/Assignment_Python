{
 "cells": [
  {
   "cell_type": "markdown",
   "metadata": {},
   "source": [
    "__Question1__\n",
    "\n",
    "Write a function that takes a list and a number as arguments. Add the number to the end of the list, then remove the first element of the list. The function should then return the updated list."
   ]
  },
  {
   "cell_type": "code",
   "execution_count": 1,
   "metadata": {},
   "outputs": [
    {
     "data": {
      "text/plain": [
       "[6, 3, 23, 17, 10]"
      ]
     },
     "execution_count": 1,
     "metadata": {},
     "output_type": "execute_result"
    }
   ],
   "source": [
    "def next_in_line(elements,value):\n",
    "  elements.pop(0)\n",
    "  elements.append(value)\n",
    "  return(elements)\n",
    "\n",
    "next_in_line([7,6,3,23,17],10)"
   ]
  },
  {
   "cell_type": "markdown",
   "metadata": {},
   "source": [
    "__Question2__\n",
    "\n",
    "Create the function that takes a list of dictionaries and returns the sum of people&#39;s budgets."
   ]
  },
  {
   "cell_type": "code",
   "execution_count": 2,
   "metadata": {},
   "outputs": [
    {
     "name": "stdout",
     "output_type": "stream",
     "text": [
      "65700\n"
     ]
    }
   ],
   "source": [
    "def get_budget(Budgets_data):\n",
    "  budget = 0\n",
    "  for i in range(len(Budgets_data)):\n",
    "    budget = budget + Budgets_data[i]['budget']\n",
    "  print(budget)\n",
    "\n",
    "get_budgets =([{\"name\":\"Jone\",\"age\":21,\"budget\":23000},\n",
    "               {\"name\":\"Steve\",\"age\":32,\"budget\":40000},\n",
    "               {\"name\":\"Martin\",\"age\":16,\"budget\":2700}])\n",
    "get_budget(get_budgets)"
   ]
  },
  {
   "cell_type": "markdown",
   "metadata": {},
   "source": [
    "__Question3__\n",
    "\n",
    "Create a function that takes a string and returns a string with its letters in alphabetical order."
   ]
  },
  {
   "cell_type": "code",
   "execution_count": 3,
   "metadata": {},
   "outputs": [
    {
     "name": "stdout",
     "output_type": "stream",
     "text": [
      "Enter the String  hacker\n"
     ]
    },
    {
     "data": {
      "text/plain": [
       "'acehkr'"
      ]
     },
     "execution_count": 3,
     "metadata": {},
     "output_type": "execute_result"
    }
   ],
   "source": [
    "def Alphabet_soup(Letters):\n",
    "  return(\"\".join(sorted(Letters)))\n",
    "\n",
    "letters = input(\"Enter the String  \").lower()\n",
    "Alphabet_soup(letters)"
   ]
  },
  {
   "cell_type": "markdown",
   "metadata": {},
   "source": [
    "__Question4__\n",
    "\n",
    "Suppose that you invest $10,000 for 10 years at an interest rate of 6% compounded monthly. What will be the value of your investment at the end of the 10 year period?\n",
    "\n",
    "Create a function that accepts the principal p, the term in years t, the interest rate r, and the number of compounding periods per year n. The function returns the value at the end of term rounded to the nearest cent.\n",
    "\n",
    "For the example above:\n",
    "\n",
    "compound_interest(10000, 10, 0.06, 12) ➞ 18193.97\n",
    "\n",
    "Note that the interest rate is given as a decimal and n=12 because with monthly compounding there are 12 periods per year. Compounding can also be done annually, quarterly, weekly, or daily."
   ]
  },
  {
   "cell_type": "code",
   "execution_count": 7,
   "metadata": {},
   "outputs": [
    {
     "name": "stdout",
     "output_type": "stream",
     "text": [
      "Enter the Princliple value 100000\n",
      "Enter the Year 20\n",
      "Enter the interest rate 15\n",
      "Enter compounding periods per year365\n"
     ]
    },
    {
     "data": {
      "text/plain": [
       "2007316.26"
      ]
     },
     "execution_count": 7,
     "metadata": {},
     "output_type": "execute_result"
    }
   ],
   "source": [
    "def compund_interest(p,t,r,n):\n",
    "  return(round(p*(1+r/n)**(t*n),2))\n",
    "\n",
    "Princ_value = float(input(\"Enter the Princliple value \"))\n",
    "year = int(input(\"Enter the Year \"))\n",
    "interest = int(input(\"Enter the interest rate \"))/100\n",
    "periods = int(input(\"Enter compounding periods per year\"))\n",
    "\n",
    "compund_interest(Princ_value,year,interest,periods)"
   ]
  },
  {
   "cell_type": "markdown",
   "metadata": {},
   "source": [
    "__Question5__\n",
    "\n",
    "Write a function that takes a list of elements and returns only the integers."
   ]
  },
  {
   "cell_type": "code",
   "execution_count": 8,
   "metadata": {},
   "outputs": [
    {
     "name": "stdout",
     "output_type": "stream",
     "text": [
      "[9, 2, 16]\n",
      "[81, 123]\n",
      "[1]\n",
      "[10, 56, 20, 3]\n"
     ]
    }
   ],
   "source": [
    "def return_only_interger(list_1):\n",
    "  return([i for i in list_1 if type(i)== int])\n",
    "print(return_only_interger([9,2,\"space\",\"car\",\"lion\",16]))\n",
    "print(return_only_interger([\"hello\",81,\"basketball\",123,\"fox\"]))\n",
    "print(return_only_interger([\"String\",True,3.3,1]))\n",
    "print(return_only_interger([10,'121',56,20,'car',3,'lion']))"
   ]
  },
  {
   "cell_type": "code",
   "execution_count": null,
   "metadata": {},
   "outputs": [],
   "source": []
  }
 ],
 "metadata": {
  "kernelspec": {
   "display_name": "Python 3",
   "language": "python",
   "name": "python3"
  },
  "language_info": {
   "codemirror_mode": {
    "name": "ipython",
    "version": 3
   },
   "file_extension": ".py",
   "mimetype": "text/x-python",
   "name": "python",
   "nbconvert_exporter": "python",
   "pygments_lexer": "ipython3",
   "version": "3.8.2"
  }
 },
 "nbformat": 4,
 "nbformat_minor": 4
}
