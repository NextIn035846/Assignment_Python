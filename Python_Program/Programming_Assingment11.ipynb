{
 "cells": [
  {
   "cell_type": "markdown",
   "metadata": {},
   "source": [
    "__1. Write a Python program to find words which are greater than given length k?__"
   ]
  },
  {
   "cell_type": "code",
   "execution_count": 1,
   "metadata": {},
   "outputs": [
    {
     "name": "stdout",
     "output_type": "stream",
     "text": [
      "Enter the String Hello Friends how are you\n",
      "Enter the Kth Value 3\n",
      "['Hello', 'Friends']\n"
     ]
    }
   ],
   "source": [
    "Sentenc = input(\"Enter the String \").split(\" \")\n",
    "Length = int(input(\"Enter the Kth Value \"))\n",
    "Values = [ i for i in Sentenc if Length <len(i)]\n",
    "\n",
    "if len(Values)== 0 :\n",
    "    print(\"There is no Words which are Grater than the Given size\")\n",
    "else:\n",
    "    print(Values)\n"
   ]
  },
  {
   "cell_type": "markdown",
   "metadata": {},
   "source": [
    "__2. Write a Python program for removing i-th character from a string?__"
   ]
  },
  {
   "cell_type": "code",
   "execution_count": 3,
   "metadata": {},
   "outputs": [
    {
     "name": "stdout",
     "output_type": "stream",
     "text": [
      "Enter the Character Thomas\n",
      "Enter the Ith Value 3\n",
      "Thmas\n"
     ]
    }
   ],
   "source": [
    "Charaters = input(\"Enter the Character \")\n",
    "Values = int(input(\"Enter the Ith Value \"))\n",
    "RemovCh = \"\"\n",
    "if len(Charaters)< Values:\n",
    "    print(\"Given Values is out of the bound pleas Enter the less Value\")\n",
    "else:\n",
    "    for i in range(len(Charaters)):\n",
    "        if i!= Values-1:\n",
    "            RemovCh = RemovCh + Charaters[i]\n",
    "print(RemovCh)\n"
   ]
  },
  {
   "cell_type": "markdown",
   "metadata": {},
   "source": [
    "__3. Write a Python program to split and join a string?__"
   ]
  },
  {
   "cell_type": "code",
   "execution_count": 5,
   "metadata": {},
   "outputs": [
    {
     "name": "stdout",
     "output_type": "stream",
     "text": [
      "Enter the String Thomas Markas Patole\n",
      "Spliting the String with Space \n",
      "['Thomas', 'Markas', 'Patole']\n",
      "\n",
      " join the String with '-' \n",
      "Thomas-Markas-Patole\n"
     ]
    }
   ],
   "source": [
    "Values = input(\"Enter the String \").split(\" \")\n",
    "print(\"Spliting the String with Space \")\n",
    "print(Values)\n",
    "print(\"\\n join the String with '-' \")\n",
    "print(\"-\".join(Values))\n",
    "\n"
   ]
  },
  {
   "cell_type": "markdown",
   "metadata": {},
   "source": [
    "__4. Write a Python to check if a given string is binary string or not?__"
   ]
  },
  {
   "cell_type": "code",
   "execution_count": 7,
   "metadata": {},
   "outputs": [
    {
     "name": "stdout",
     "output_type": "stream",
     "text": [
      "Enter the String10101\n",
      "Enter string is Binary String \n"
     ]
    }
   ],
   "source": [
    "def Check(Value):\n",
    "    b = set(Value)\n",
    "    c = {'0','1'}\n",
    "    if b==c or b == {'0'} or b=={'1'}:\n",
    "        print(\"Enter string is Binary String \")\n",
    "    else:\n",
    "        print(\"Enter string is not a Binary String\")\n",
    "Value = input(\"Enter the String\")\n",
    "Check(Value)"
   ]
  },
  {
   "cell_type": "markdown",
   "metadata": {},
   "source": [
    "__5. Write a Python program to find uncommon words from two Strings?__"
   ]
  },
  {
   "cell_type": "code",
   "execution_count": 9,
   "metadata": {},
   "outputs": [
    {
     "name": "stdout",
     "output_type": "stream",
     "text": [
      "Enter the string Thomas Markas Patole\n",
      "Enter the String Hello Thomas Patole how Are you\n",
      "{'you', 'hello', 'are', 'how', 'markas'}\n"
     ]
    }
   ],
   "source": [
    "Charter1 = set(input(\"Enter the string \").lower().split())\n",
    "Charater2 = set(input(\"Enter the String \").lower().split())\n",
    "\n",
    "print((Charter1| Charater2)-(Charter1& Charater2))"
   ]
  },
  {
   "cell_type": "markdown",
   "metadata": {},
   "source": [
    "__6. Write a Python to find all duplicate characters in string?__"
   ]
  },
  {
   "cell_type": "code",
   "execution_count": 10,
   "metadata": {},
   "outputs": [
    {
     "name": "stdout",
     "output_type": "stream",
     "text": [
      "Enter the String Apple\n",
      "p\n"
     ]
    }
   ],
   "source": [
    "String = input(\"Enter the String \").lower()\n",
    "Value = set(String)\n",
    "for i in Value:\n",
    "    if String.count(i)>=2:\n",
    "        print(i)\n",
    "  \n"
   ]
  },
  {
   "cell_type": "markdown",
   "metadata": {},
   "source": [
    "__7. Write a Python Program to check if a string contains any special character?__"
   ]
  },
  {
   "cell_type": "code",
   "execution_count": 11,
   "metadata": {},
   "outputs": [
    {
     "name": "stdout",
     "output_type": "stream",
     "text": [
      "Enter the stringThomasPatole@qer\n",
      "The string contains special characters.\n"
     ]
    }
   ],
   "source": [
    "import re\n",
    "string = input(\"Enter the string\")\n",
    "\n",
    "special_char = re.compile('[@_!#$%^&*()<>?/\\|}{~:]')\n",
    "if(special_char.search(string) == None):\n",
    "    print('String does not contain any special characters.')\n",
    "else:\n",
    "    print('The string contains special characters.')"
   ]
  },
  {
   "cell_type": "code",
   "execution_count": null,
   "metadata": {},
   "outputs": [],
   "source": []
  }
 ],
 "metadata": {
  "kernelspec": {
   "display_name": "Python 3",
   "language": "python",
   "name": "python3"
  },
  "language_info": {
   "codemirror_mode": {
    "name": "ipython",
    "version": 3
   },
   "file_extension": ".py",
   "mimetype": "text/x-python",
   "name": "python",
   "nbconvert_exporter": "python",
   "pygments_lexer": "ipython3",
   "version": "3.8.2"
  }
 },
 "nbformat": 4,
 "nbformat_minor": 4
}
