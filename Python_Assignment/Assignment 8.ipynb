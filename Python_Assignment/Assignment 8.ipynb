{
 "cells": [
  {
   "cell_type": "markdown",
   "metadata": {},
   "source": [
    "__1. Is the Python Standard Library included with PyInputPlus?__\n",
    "\n",
    "Answer:PyInputPlus is not a part of the Python Standard Library, we must install it separately using Pip.\n",
    "\n"
   ]
  },
  {
   "cell_type": "markdown",
   "metadata": {},
   "source": [
    "__2. Why is PyInputPlus commonly imported with import pyinputplus as pypi?__\n",
    "\n",
    "Answer:ou can import the module with import pyinputplus as pyip so that you can enter a shorter name when calling the module’s functions"
   ]
  },
  {
   "cell_type": "markdown",
   "metadata": {},
   "source": [
    "__3. How do you distinguish between inputInt() and inputFloat()?__\n",
    "\n",
    "Ans:  The difference is in the data-type when you use the first one the program expects an integer value as input but in the latter it expects a float value i.e number containing a decimal\n",
    "\n"
   ]
  },
  {
   "cell_type": "markdown",
   "metadata": {},
   "source": [
    "__4. Using PyInputPlus, how do you ensure that the user enters a whole number between 0 and 99?__\n",
    "\n",
    "Ans: By using pyip.inputint(min=0, max=99)"
   ]
  },
  {
   "cell_type": "markdown",
   "metadata": {},
   "source": [
    "__5. What is transferred to the keyword arguments allowRegexes and blockRegexes?__\n",
    "\n",
    "Ans: A list of regex strings that are either explicitly allowed or denied"
   ]
  },
  {
   "cell_type": "markdown",
   "metadata": {},
   "source": [
    "__6. If a blank input is entered three times, what does inputStr(limit=3) do?__\n",
    "\n",
    "Ans: The function will raise RetryLimitException."
   ]
  },
  {
   "cell_type": "markdown",
   "metadata": {},
   "source": [
    "__7. If blank input is entered three times, what does inputStr(limit=3, default='hello') do?__\n",
    "\n",
    "Ans: . The function returns the value 'hello'"
   ]
  },
  {
   "cell_type": "code",
   "execution_count": null,
   "metadata": {},
   "outputs": [],
   "source": []
  }
 ],
 "metadata": {
  "kernelspec": {
   "display_name": "Python 3",
   "language": "python",
   "name": "python3"
  },
  "language_info": {
   "codemirror_mode": {
    "name": "ipython",
    "version": 3
   },
   "file_extension": ".py",
   "mimetype": "text/x-python",
   "name": "python",
   "nbconvert_exporter": "python",
   "pygments_lexer": "ipython3",
   "version": "3.8.2"
  }
 },
 "nbformat": 4,
 "nbformat_minor": 4
}
