{
 "cells": [
  {
   "cell_type": "markdown",
   "metadata": {},
   "source": [
    "__1. To what does a relative path refer?__\n",
    "\n",
    "Answer: A relative path is relative to the program's current working directory."
   ]
  },
  {
   "cell_type": "markdown",
   "metadata": {},
   "source": [
    "__2. What does an absolute path start with your operating system?__\n",
    "\n",
    "Answer: an absolute path always begins with the root folder"
   ]
  },
  {
   "cell_type": "markdown",
   "metadata": {},
   "source": [
    "__3. What do the functions os.getcwd() and os.chdir() do?__\n",
    "\n",
    "Answer:os.getcwd() get the current working directory as a string value.\n",
    "\n",
    "os.chdir() change the current working directory to the argument."
   ]
  },
  {
   "cell_type": "markdown",
   "metadata": {},
   "source": [
    "__4. What are the . and .. folders?__\n",
    "\n",
    "Answer: A single period (.) for a folder name is shorthand for \"this directory.\" Two periods (..) means \"the parent folder.\""
   ]
  },
  {
   "cell_type": "markdown",
   "metadata": {},
   "source": [
    "__5. In C:\\bacon\\eggs\\spam.txt, which part is the dir name, and which part is the base name?__\n",
    "\n",
    "Answer:Dir name is C:/\\bacon/\\eggs/, base name is spam.txt."
   ]
  },
  {
   "cell_type": "markdown",
   "metadata": {},
   "source": [
    "__6. What are the three “mode” arguments that can be passed to the open() function?__\n",
    "\n",
    "Answer:Read mode: open('test.txt', 'r'), Write mode: open('test.txt', 'w'), Append mode: open('test.txt', 'a')."
   ]
  },
  {
   "cell_type": "markdown",
   "metadata": {},
   "source": [
    "__7. What happens if an existing file is opened in write mode?__\n",
    "\n",
    "Answer:It will overwrite the existing file and start from scratch, just like when you overwrite a variable's value with a new value."
   ]
  },
  {
   "cell_type": "markdown",
   "metadata": {},
   "source": [
    "__8. How do you tell the difference between read() and readlines()?__\n",
    "\n",
    "Answer:read() method returns the contents of a file as a single large string value.\n",
    "\n",
    "readline() method get a list of string values from the file, one string for each line of text."
   ]
  },
  {
   "cell_type": "markdown",
   "metadata": {},
   "source": [
    "__9. What data structure does a shelf value resemble?__\n",
    "\n",
    "Answer:A shelf value resemble dictionary data structure."
   ]
  },
  {
   "cell_type": "code",
   "execution_count": null,
   "metadata": {},
   "outputs": [],
   "source": []
  }
 ],
 "metadata": {
  "kernelspec": {
   "display_name": "Python 3",
   "language": "python",
   "name": "python3"
  },
  "language_info": {
   "codemirror_mode": {
    "name": "ipython",
    "version": 3
   },
   "file_extension": ".py",
   "mimetype": "text/x-python",
   "name": "python",
   "nbconvert_exporter": "python",
   "pygments_lexer": "ipython3",
   "version": "3.8.2"
  }
 },
 "nbformat": 4,
 "nbformat_minor": 4
}
