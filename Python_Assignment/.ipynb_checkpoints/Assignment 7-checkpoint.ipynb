{
 "cells": [
  {
   "cell_type": "markdown",
   "metadata": {},
   "source": [
    "__1. What is the name of the feature responsible for generating Regex objects?__\n",
    "\n",
    "Answer: The re.compile() function returns Regex objects."
   ]
  },
  {
   "cell_type": "markdown",
   "metadata": {},
   "source": [
    "__2. Why do raw strings often appear in Regex objects?__\n",
    "\n",
    "Answer:Raw strings are used so that backslashes do not have to be escaped."
   ]
  },
  {
   "cell_type": "markdown",
   "metadata": {},
   "source": [
    "__3. What is the return value of the search() method?__\n",
    "\n",
    "Answer: The search() method return match objectes"
   ]
  },
  {
   "cell_type": "markdown",
   "metadata": {},
   "source": [
    "__4. From a Match item, how do you get the actual strings that match the pattern?__\n",
    "\n",
    "Answer:The group() method returns strings of the matched text.\n"
   ]
  },
  {
   "cell_type": "markdown",
   "metadata": {},
   "source": [
    "__5. In the regex which created from the r'(\\d\\d\\d)-(\\d\\d\\d-\\d\\d\\d\\d), what does group zero cover?Group 2? Group 1?__\n",
    "\n",
    "Answer:Group 0 is the entire match, group 1 covers the first set of parentheses, and group 2 covers the second set of parentheses."
   ]
  },
  {
   "cell_type": "markdown",
   "metadata": {},
   "source": [
    "__6. In standard expression syntax, parentheses and intervals have distinct meanings. How can you tella regex that you want it to fit real parentheses and periods?__\n",
    "\n",
    "Answer:Periods and parentheses can be escaped with a backslash: \\., \\(, and \\)."
   ]
  },
  {
   "cell_type": "markdown",
   "metadata": {},
   "source": [
    "__7. The findall() method returns a string list or a list of string tuples. What causes it to return one of the two options?__\n",
    "\n",
    "Answer: If the regex has no groups, a list of strings is returned. If the regex has groups, a list of tuples of strings is returned."
   ]
  },
  {
   "cell_type": "markdown",
   "metadata": {},
   "source": [
    "__8. In standard expressions, what does the | character mean?__\n",
    "\n",
    "Answer: The | character signifies matching “either, or” between two groups."
   ]
  },
  {
   "cell_type": "markdown",
   "metadata": {},
   "source": [
    "__9. In regular expressions, what does the character stand for?__\n",
    "\n",
    "Answer:The ? character can either mean “match zero or one of the preceding group” or be used to signify nongreedy matching."
   ]
  },
  {
   "cell_type": "markdown",
   "metadata": {},
   "source": [
    "__10.In regular expressions, what is the difference between the + and * characters?__\n",
    "\n",
    "Answer:The + matches one or more. The * matches zero or more."
   ]
  },
  {
   "cell_type": "markdown",
   "metadata": {},
   "source": [
    "__11. What is the difference between {4} and {4,5} in regular expression?__\n",
    "\n",
    "Answer: The {4} matches exactly Four instances of the preceding group. The {4,5} matches between four and five instances."
   ]
  },
  {
   "cell_type": "markdown",
   "metadata": {},
   "source": [
    "__12. What do you mean by the \\d, \\w, and \\s shorthand character classes signify in regular expressions?__\n",
    "\n",
    "Answer: The \\d, \\w, and \\s shorthand character classes match a single digit, word, or space character, respectively."
   ]
  },
  {
   "cell_type": "markdown",
   "metadata": {},
   "source": [
    "__13. What do means by \\D, \\W, and \\S shorthand character classes signify in regular expressions?__\n",
    "\n",
    "Answer: The \\D, \\W, and \\S shorthand character classes match a single character that is not a digit, word, or space character, respectively."
   ]
  },
  {
   "cell_type": "markdown",
   "metadata": {},
   "source": [
    "__14. What is the difference between .*? and .*?__\n",
    "\n",
    "Answer:The .* performs a greedy match, and the .*? performs a nongreedy match."
   ]
  },
  {
   "cell_type": "markdown",
   "metadata": {},
   "source": [
    "__15. What is the syntax for matching both numbers and lowercase letters with a character class?__\n",
    "\n",
    "Answer:The . character normally matches any character except the newline character. If re.DOTALL is passed as the second argument to re.compile(), then the dot will also match newline characters."
   ]
  },
  {
   "cell_type": "markdown",
   "metadata": {},
   "source": [
    "__16. What is the procedure for making a normal expression in regax case insensitive?__\n",
    "\n",
    "Answer:Passing re.I or re.IGNORECASE as the second argument to re.compile() will make the matching case insensitive."
   ]
  },
  {
   "cell_type": "markdown",
   "metadata": {},
   "source": [
    "__17. What does the . character normally match? What does it match if re.DOTALL is passed as 2nd argument in re.compile()?__\n",
    "\n",
    "Answer: Either [0-9a-z] or [a-z0-9]\n",
    "\n"
   ]
  },
  {
   "cell_type": "markdown",
   "metadata": {},
   "source": [
    "__18. If numReg = re.compile(r\\d+), what will numRegex.sub(X, 11 drummers, 10 pipers, five rings, 4hen) return?__\n",
    "\n",
    "Answer:'X drummers, X pipers, five rings, X hens'"
   ]
  },
  {
   "cell_type": "markdown",
   "metadata": {},
   "source": [
    "__19. What does passing re.VERBOSE as the 2nd argument to re.compile() allow to do?__\n",
    "\n",
    "Answer: The re.VERBOSE argument allows you to add whitespace and comments to the string passed to re.compile()."
   ]
  },
  {
   "cell_type": "markdown",
   "metadata": {},
   "source": [
    "__20. How would you write a regex that match a number with comma for every three digits? It must\n",
    "match the given following:\n",
    "42\n",
    "1,234\n",
    "6,368,745\n",
    "but not the following:\n",
    "12,34,567 (which has only two digits between the commas)\n",
    "1234 (which lacks commas)__\n",
    "\n",
    "Answer:re.compile(r'^\\d{1,3}(,\\d{3})*$') will create this regex, but other regex strings can produce a similar regular expression.\n"
   ]
  },
  {
   "cell_type": "markdown",
   "metadata": {},
   "source": [
    "__21. How would you write a regex that matches the full name of someone whose last name is\n",
    "Watanabe? You can assume that the first name that comes before it will always be one word that\n",
    "begins with a capital letter. The regex must match the following:\n",
    "&#39;Haruto Watanabe&#39;\n",
    "&#39;Alice Watanabe&#39;\n",
    "&#39;RoboCop Watanabe&#39;\n",
    "but not the following:\n",
    "haruto Watanabe (where the first name is not capitalized)\n",
    "Mr. Watanabe (where the preceding word has a nonletter character)\n",
    "Watanabe(which has no first name)\n",
    "Haruto watanabe (where Watanabe is not capitalized)__\n",
    "\n",
    "Answer:re.compile(r'[A-Z][a-z]*\\sNakamoto')"
   ]
  },
  {
   "cell_type": "markdown",
   "metadata": {},
   "source": [
    "__22. How would you write a regex that matches a sentence where the first word is either Alice, Bob,\n",
    "or Carol; the second word is either eats, pets, or throws; the third word is apples, cats, or baseballs;\n",
    "and the sentence ends with a period? This regex should be case-insensitive. It must match the\n",
    "following:\n",
    "&#39;Alice eats apples.&#39;\n",
    "&#39;Bob pets cats.&#39;\n",
    "&#39;Carol throws baseballs.&#39;\n",
    "&#39;Alice throws Apples.&#39;\n",
    "&#39;BOB EATS CATS.&#39;\n",
    "but not the following:\n",
    "&#39;RoboCop eats apples.&#39;\n",
    "&#39;ALICE THROWS FOOTBALLS.&#39;\n",
    "&#39;Carol eats 7 cats.&#39;__\n",
    "\n",
    "Answer:re.compile(r'(Alice|Bob|Carol)\\s(eats|pets|throws)\\s(apples|cats|baseballs)\\.', re.IGNORECASE)\n",
    "\n"
   ]
  },
  {
   "cell_type": "code",
   "execution_count": null,
   "metadata": {},
   "outputs": [],
   "source": []
  }
 ],
 "metadata": {
  "kernelspec": {
   "display_name": "Python 3",
   "language": "python",
   "name": "python3"
  },
  "language_info": {
   "codemirror_mode": {
    "name": "ipython",
    "version": 3
   },
   "file_extension": ".py",
   "mimetype": "text/x-python",
   "name": "python",
   "nbconvert_exporter": "python",
   "pygments_lexer": "ipython3",
   "version": "3.8.2"
  }
 },
 "nbformat": 4,
 "nbformat_minor": 4
}
